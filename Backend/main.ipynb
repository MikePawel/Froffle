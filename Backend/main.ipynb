{
 "cells": [
  {
   "cell_type": "code",
   "execution_count": 89,
   "metadata": {},
   "outputs": [],
   "source": [
    "import polars as pl\n",
    "import requests\n",
    "import json\n",
    "from tqdm import tqdm"
   ]
  },
  {
   "cell_type": "code",
   "execution_count": 53,
   "metadata": {},
   "outputs": [],
   "source": [
    "account_id = \"0x889befc77295680009ea41ecf3aa676bd7a8ad9b\""
   ]
  },
  {
   "cell_type": "code",
   "execution_count": 55,
   "metadata": {},
   "outputs": [
    {
     "name": "stdout",
     "output_type": "stream",
     "text": [
      "number of ERC-20 tokens: 3\n"
     ]
    }
   ],
   "source": [
    "tokens = requests.get(f\"https://eth.blockscout.com/api/v2/addresses/{account_id}/tokens?type=ERC-20\")\n",
    "print(f\"number of ERC-20 tokens: {len(json.loads(tokens.text)['items'])}\")"
   ]
  },
  {
   "cell_type": "code",
   "execution_count": 56,
   "metadata": {},
   "outputs": [
    {
     "name": "stdout",
     "output_type": "stream",
     "text": [
      "number of NFTs: 15\n"
     ]
    }
   ],
   "source": [
    "nfts = requests.get(f\"https://eth.blockscout.com/api/v2/addresses/{account_id}/tokens?type=ERC-721\")\n",
    "print(f\"number of NFTs: {len(json.loads(nfts.text)['items'])}\")"
   ]
  },
  {
   "cell_type": "code",
   "execution_count": 57,
   "metadata": {},
   "outputs": [
    {
     "name": "stdout",
     "output_type": "stream",
     "text": [
      "gas used: 8081344\n"
     ]
    }
   ],
   "source": [
    "counters = requests.get(f\"https://eth.blockscout.com/api/v2/addresses/{account_id}/counters\")\n",
    "print(f\"gas used: {json.loads(counters.text)['gas_usage_count']}\")\n"
   ]
  },
  {
   "cell_type": "code",
   "execution_count": 88,
   "metadata": {},
   "outputs": [
    {
     "name": "stderr",
     "output_type": "stream",
     "text": [
      "100%|██████████| 3/3 [00:12<00:00,  4.31s/it]\n"
     ]
    },
    {
     "data": {
      "text/plain": [
       "{'timestamp': '2024-05-06T20:04:47.000000Z',\n",
       " 'fee': {'type': 'actual', 'value': '156525604515000'},\n",
       " 'gas_limit': '21000',\n",
       " 'block': 19813308,\n",
       " 'status': 'ok',\n",
       " 'method': None,\n",
       " 'confirmations': 480158,\n",
       " 'type': 2,\n",
       " 'exchange_rate': '3121.26',\n",
       " 'to': {'ens_domain_name': 'zksyncdomain.eth',\n",
       "  'hash': '0x889bEFc77295680009eA41ecf3Aa676bd7a8ad9b',\n",
       "  'implementation_address': None,\n",
       "  'implementation_name': None,\n",
       "  'implementations': [],\n",
       "  'is_contract': False,\n",
       "  'is_verified': False,\n",
       "  'metadata': None,\n",
       "  'name': None,\n",
       "  'private_tags': [],\n",
       "  'public_tags': [],\n",
       "  'watchlist_names': []},\n",
       " 'tx_burnt_fee': '155955166605000',\n",
       " 'max_fee_per_gas': '7699856337',\n",
       " 'result': 'success',\n",
       " 'hash': '0x164e65809a174878e5f77487e76fa5557d30e78016c7bf884f07369c6525f3f7',\n",
       " 'gas_price': '7453600215',\n",
       " 'priority_fee': '570437910000',\n",
       " 'base_fee_per_gas': '7426436505',\n",
       " 'from': {'ens_domain_name': None,\n",
       "  'hash': '0x7dfc9539719D6f6107578367BaD6760dd8Ec0EEf',\n",
       "  'implementation_address': None,\n",
       "  'implementation_name': None,\n",
       "  'implementations': [],\n",
       "  'is_contract': False,\n",
       "  'is_verified': False,\n",
       "  'metadata': None,\n",
       "  'name': None,\n",
       "  'private_tags': [],\n",
       "  'public_tags': [],\n",
       "  'watchlist_names': []},\n",
       " 'token_transfers': None,\n",
       " 'tx_types': ['coin_transfer'],\n",
       " 'gas_used': '21000',\n",
       " 'created_contract': None,\n",
       " 'position': 194,\n",
       " 'nonce': 3,\n",
       " 'has_error_in_internal_txs': False,\n",
       " 'actions': [],\n",
       " 'decoded_input': None,\n",
       " 'token_transfers_overflow': None,\n",
       " 'raw_input': '0x',\n",
       " 'value': '2258845889904452',\n",
       " 'max_priority_fee_per_gas': '27163710',\n",
       " 'revert_reason': None,\n",
       " 'confirmation_duration': [0, 12000.0],\n",
       " 'tx_tag': None}"
      ]
     },
     "execution_count": 88,
     "metadata": {},
     "output_type": "execute_result"
    }
   ],
   "source": [
    "# txs = []\n",
    "# next_page = None\n",
    "\n",
    "# for i in tqdm(range(0, int(json.loads(counters.text)['transactions_count']), 50)):\n",
    "#     response = requests.get(f\"https://eth.blockscout.com/api/v2/addresses/{account_id}/transactions\" if next_page is None else f\"https://eth.blockscout.com/api/v2/addresses/{account_id}/transactions?index={next_page['index']}&block_number={next_page['block_number']}&items_count={next_page['items_count']}\")\n",
    "#     response = json.loads(response.text)\n",
    "#     next_page = response[\"next_page_params\"]\n",
    "#     txs = txs + (response[\"items\"])\n"
   ]
  },
  {
   "cell_type": "code",
   "execution_count": 93,
   "metadata": {},
   "outputs": [
    {
     "data": {
      "text/html": [
       "<div><style>\n",
       ".dataframe > thead > tr,\n",
       ".dataframe > tbody > tr {\n",
       "  text-align: right;\n",
       "  white-space: pre-wrap;\n",
       "}\n",
       "</style>\n",
       "<small>shape: (109, 34)</small><table border=\"1\" class=\"dataframe\"><thead><tr><th>timestamp</th><th>fee</th><th>gas_limit</th><th>block</th><th>status</th><th>method</th><th>confirmations</th><th>type</th><th>exchange_rate</th><th>to</th><th>tx_burnt_fee</th><th>max_fee_per_gas</th><th>result</th><th>hash</th><th>gas_price</th><th>priority_fee</th><th>base_fee_per_gas</th><th>from</th><th>token_transfers</th><th>tx_types</th><th>gas_used</th><th>created_contract</th><th>position</th><th>nonce</th><th>has_error_in_internal_txs</th><th>actions</th><th>decoded_input</th><th>token_transfers_overflow</th><th>raw_input</th><th>value</th><th>max_priority_fee_per_gas</th><th>revert_reason</th><th>confirmation_duration</th><th>tx_tag</th></tr><tr><td>str</td><td>struct[2]</td><td>str</td><td>i64</td><td>str</td><td>str</td><td>i64</td><td>i64</td><td>str</td><td>struct[12]</td><td>str</td><td>str</td><td>str</td><td>str</td><td>str</td><td>str</td><td>str</td><td>struct[12]</td><td>null</td><td>list[str]</td><td>str</td><td>null</td><td>i64</td><td>i64</td><td>bool</td><td>list[null]</td><td>struct[3]</td><td>null</td><td>str</td><td>str</td><td>str</td><td>null</td><td>list[f64]</td><td>null</td></tr></thead><tbody><tr><td>&quot;2024-05-06T20:04:47.000000Z&quot;</td><td>{&quot;actual&quot;,&quot;156525604515000&quot;}</td><td>&quot;21000&quot;</td><td>19813308</td><td>&quot;ok&quot;</td><td>null</td><td>480158</td><td>2</td><td>&quot;3121.26&quot;</td><td>{&quot;zksyncdomain.eth&quot;,&quot;0x889bEFc77295680009eA41ecf3Aa676bd7a8ad9b&quot;,null,null,[],false,false,{null},null,[],[],[]}</td><td>&quot;155955166605000&quot;</td><td>&quot;7699856337&quot;</td><td>&quot;success&quot;</td><td>&quot;0x164e65809a174878e5f77487e76f…</td><td>&quot;7453600215&quot;</td><td>&quot;570437910000&quot;</td><td>&quot;7426436505&quot;</td><td>{null,&quot;0x7dfc9539719D6f6107578367BaD6760dd8Ec0EEf&quot;,null,null,[],false,false,{null},null,[],[],[]}</td><td>null</td><td>[&quot;coin_transfer&quot;]</td><td>&quot;21000&quot;</td><td>null</td><td>194</td><td>3</td><td>false</td><td>[]</td><td>{null,null,null}</td><td>null</td><td>&quot;0x&quot;</td><td>&quot;2258845889904452&quot;</td><td>&quot;27163710&quot;</td><td>null</td><td>[0.0, 12000.0]</td><td>null</td></tr><tr><td>&quot;2024-04-27T06:29:11.000000Z&quot;</td><td>{&quot;actual&quot;,&quot;1020983377222353&quot;}</td><td>&quot;193991&quot;</td><td>19744891</td><td>&quot;error&quot;</td><td>&quot;execute&quot;</td><td>548575</td><td>2</td><td>&quot;3121.26&quot;</td><td>{null,&quot;0x3fC91A3afd70395Cd496C647d5a6CC9D4B2b7FAD&quot;,null,null,[],true,true,{[{{null,null,null,null,null,null},&quot;Uniswap: Universal Router&quot;,10,&quot;uniswap-universal-router&quot;,&quot;name&quot;}]},&quot;UniversalRouter&quot;,[],[],[]}</td><td>&quot;1010422770466363&quot;</td><td>&quot;5374617014&quot;</td><td>&quot;awaiting_internal_transactions&quot;</td><td>&quot;0xb935c4489622572ad1182a723d42…</td><td>&quot;5374247289&quot;</td><td>&quot;10560606755990&quot;</td><td>&quot;5318658419&quot;</td><td>{&quot;zksyncdomain.eth&quot;,&quot;0x889bEFc77295680009eA41ecf3Aa676bd7a8ad9b&quot;,null,null,[],false,false,{null},null,[],[],[]}</td><td>null</td><td>[&quot;contract_call&quot;]</td><td>&quot;189977&quot;</td><td>null</td><td>90</td><td>88</td><td>true</td><td>[]</td><td>{&quot;execute(bytes commands, bytes[] inputs, uint256 deadline)&quot;,&quot;3593564c&quot;,[{&quot;commands&quot;,&quot;bytes&quot;,&quot;0x0a00060c&quot;}, {&quot;inputs&quot;,&quot;bytes[]&quot;,&quot;[&quot;0x0000000000000000000000003c3a81e81dc49a522a592e7622a7e711c06bf354000000000000000000000000ffffffffffffffffffffffffffffffffffffffff00000000000000000000000000000000000000000000000000000000665427aa00000000000000000000000000000000000000000000000000000000000000000000000000000000000000003fc91a3afd70395cd496c647d5a6cc9d4b2b7fad00000000000000000000000000000000000000000000000000000000662ca1b200000000000000000000000000000000000000000000000000000000000000e00000000000000000000000000000000000000000000000000000000000000041135cf8e484360754de13eff1edd46d55568b771268e29e79ee31d720d3b9cb3766c8ac5d49f295bd5d980b4d38e2da5a00b248c2e0f947122087cfcc3e292fbf1c00000000000000000000000000000000000000000000000000000000000000&quot;, &quot;0x0000000000000000000000000000000000000000000000000000000000000002000000000000000000000000000000000000000000000000a6610394a5486800000000000000000000000000000000000000000000000000000df80c8a022f0800000000000000000000000000000000000000000000000000000000000000a00000000000000000000000000000000000000000000000000000000000000001000000000000000000000000000000000000000000000000000000000000002b3c3a81e81dc49a522a592e7622a7e711c06bf354000bb8c02aaa39b223fe8d0a0e5c4f27ead9083c756cc2000000000000000000000000000000000000000000&quot;, … &quot;0x0000000000000000000000000000000000000000000000000000000000000001000000000000000000000000000000000000000000000000000ddb70ca70c21d&quot;]&quot;}, {&quot;deadline&quot;,&quot;uint256&quot;,&quot;1714199879&quot;}]}</td><td>null</td><td>&quot;0x3593564c00000000000000000000…</td><td>&quot;0&quot;</td><td>&quot;55588870&quot;</td><td>null</td><td>[0.0, 12000.0]</td><td>null</td></tr><tr><td>&quot;2024-04-27T06:26:47.000000Z&quot;</td><td>{&quot;actual&quot;,&quot;290094006344094&quot;}</td><td>&quot;55292&quot;</td><td>19744879</td><td>&quot;ok&quot;</td><td>&quot;approve&quot;</td><td>548587</td><td>2</td><td>&quot;3121.26&quot;</td><td>{null,&quot;0x3c3a81e81dc49A522A592e7622A7E711c06bf354&quot;,&quot;0xCd368c1d80120b0Dd92447c87eB570154f8e685c&quot;,&quot;L1MantleToken&quot;,[{&quot;0xCd368c1d80120b0Dd92447c87eB570154f8e685c&quot;,&quot;L1MantleToken&quot;}],true,true,{[{{null,null,null,null,null,null},&quot;Token Contract&quot;,0,&quot;token-contract&quot;,&quot;note&quot;}, {{null,null,null,null,null,null},&quot;Mantle: MNT Token&quot;,10,&quot;mantle-mnt-token&quot;,&quot;name&quot;}]},&quot;TransparentUpgradeableProxy&quot;,[],[],[]}</td><td>&quot;290041148134094&quot;</td><td>&quot;7450250141&quot;</td><td>&quot;success&quot;</td><td>&quot;0xe143e4addb9f1203bca23f82296f…</td><td>&quot;5323509558&quot;</td><td>&quot;52858210000&quot;</td><td>&quot;5322539558&quot;</td><td>{&quot;zksyncdomain.eth&quot;,&quot;0x889bEFc77295680009eA41ecf3Aa676bd7a8ad9b&quot;,null,null,[],false,false,{null},null,[],[],[]}</td><td>null</td><td>[&quot;contract_call&quot;]</td><td>&quot;54493&quot;</td><td>null</td><td>131</td><td>87</td><td>false</td><td>[]</td><td>{&quot;approve(address spender, uint256 amount)&quot;,&quot;095ea7b3&quot;,[{&quot;spender&quot;,&quot;address&quot;,&quot;0x000000000022d473030f116ddee9f6b43ac78ba3&quot;}, {&quot;amount&quot;,&quot;uint256&quot;,&quot;115792089237316195423570985008687907853269984665640564039457584007913129639935&quot;}]}</td><td>null</td><td>&quot;0x095ea7b300000000000000000000…</td><td>&quot;0&quot;</td><td>&quot;970000&quot;</td><td>null</td><td>[0.0, 12000.0]</td><td>null</td></tr><tr><td>&quot;2024-04-17T21:54:59.000000Z&quot;</td><td>{&quot;actual&quot;,&quot;505082319598116&quot;}</td><td>&quot;77410&quot;</td><td>19678006</td><td>&quot;ok&quot;</td><td>&quot;transfer&quot;</td><td>615460</td><td>2</td><td>&quot;3121.26&quot;</td><td>{null,&quot;0x36E66fbBce51e4cD5bd3C62B637Eb411b18949D4&quot;,null,null,[],true,true,{null},&quot;Omni&quot;,[],[],[]}</td><td>&quot;503309536742664&quot;</td><td>&quot;15370897982&quot;</td><td>&quot;success&quot;</td><td>&quot;0x8246096042cf717b77abec181e76…</td><td>&quot;10829845182&quot;</td><td>&quot;1772782855452&quot;</td><td>&quot;10791833628&quot;</td><td>{&quot;zksyncdomain.eth&quot;,&quot;0x889bEFc77295680009eA41ecf3Aa676bd7a8ad9b&quot;,null,null,[],false,false,{null},null,[],[],[]}</td><td>null</td><td>[&quot;contract_call&quot;, &quot;token_transfer&quot;]</td><td>&quot;46638&quot;</td><td>null</td><td>122</td><td>86</td><td>false</td><td>[]</td><td>{&quot;transfer(address to, uint256 amount)&quot;,&quot;a9059cbb&quot;,[{&quot;to&quot;,&quot;address&quot;,&quot;0x7b9cfaf84cb922033bf2a17983b028f6b2bb7d5c&quot;}, {&quot;amount&quot;,&quot;uint256&quot;,&quot;13232782529999998976&quot;}]}</td><td>null</td><td>&quot;0xa9059cbb00000000000000000000…</td><td>&quot;0&quot;</td><td>&quot;38011554&quot;</td><td>null</td><td>[0.0, 12000.0]</td><td>null</td></tr><tr><td>&quot;2024-04-17T21:53:47.000000Z&quot;</td><td>{&quot;actual&quot;,&quot;755631295800570&quot;}</td><td>&quot;113491&quot;</td><td>19678000</td><td>&quot;ok&quot;</td><td>&quot;claim&quot;</td><td>615466</td><td>2</td><td>&quot;3121.26&quot;</td><td>{null,&quot;0xD0c155595929FD6bE034c3848C00DAeBC6D330F6&quot;,&quot;0xf310aC7d07B6d13885267170FB8Cf49a196056dF&quot;,&quot;GenesisClaim&quot;,[{&quot;0xf310aC7d07B6d13885267170FB8Cf49a196056dF&quot;,&quot;GenesisClaim&quot;}],true,true,{null},&quot;TransparentUpgradeableProxy&quot;,[],[],[]}</td><td>&quot;752910687405576&quot;</td><td>&quot;15195598548&quot;</td><td>&quot;success&quot;</td><td>&quot;0x580b5f7947df196462783285a557…</td><td>&quot;10883981445&quot;</td><td>&quot;2720608394994&quot;</td><td>&quot;10844794276&quot;</td><td>{&quot;zksyncdomain.eth&quot;,&quot;0x889bEFc77295680009eA41ecf3Aa676bd7a8ad9b&quot;,null,null,[],false,false,{null},null,[],[],[]}</td><td>null</td><td>[&quot;coin_transfer&quot;, &quot;contract_call&quot;, &quot;token_transfer&quot;]</td><td>&quot;69426&quot;</td><td>null</td><td>144</td><td>85</td><td>false</td><td>[]</td><td>{&quot;claim()&quot;,&quot;4e71d92d&quot;,[]}</td><td>null</td><td>&quot;0x4e71d92d&quot;</td><td>&quot;500000000000000&quot;</td><td>&quot;39187169&quot;</td><td>null</td><td>[0.0, 12000.0]</td><td>null</td></tr><tr><td>&hellip;</td><td>&hellip;</td><td>&hellip;</td><td>&hellip;</td><td>&hellip;</td><td>&hellip;</td><td>&hellip;</td><td>&hellip;</td><td>&hellip;</td><td>&hellip;</td><td>&hellip;</td><td>&hellip;</td><td>&hellip;</td><td>&hellip;</td><td>&hellip;</td><td>&hellip;</td><td>&hellip;</td><td>&hellip;</td><td>&hellip;</td><td>&hellip;</td><td>&hellip;</td><td>&hellip;</td><td>&hellip;</td><td>&hellip;</td><td>&hellip;</td><td>&hellip;</td><td>&hellip;</td><td>&hellip;</td><td>&hellip;</td><td>&hellip;</td><td>&hellip;</td><td>&hellip;</td><td>&hellip;</td><td>&hellip;</td></tr><tr><td>&quot;2022-10-25T22:45:35.000000Z&quot;</td><td>{&quot;actual&quot;,&quot;2301541226282148&quot;}</td><td>&quot;92151&quot;</td><td>15828152</td><td>&quot;ok&quot;</td><td>&quot;depositEth&quot;</td><td>4465315</td><td>2</td><td>&quot;3121.26&quot;</td><td>{null,&quot;0x4Dbd4fc535Ac27206064B68FfCf827b0A60BAB3f&quot;,&quot;0x5aED5f8A1e3607476F1f81c3d8fe126deB0aFE94&quot;,&quot;Inbox&quot;,[{&quot;0x5aED5f8A1e3607476F1f81c3d8fe126deB0aFE94&quot;,&quot;Inbox&quot;}],true,true,{null},&quot;TransparentUpgradeableProxy&quot;,[],[],[]}</td><td>&quot;2257573491720180&quot;</td><td>&quot;25237858042&quot;</td><td>&quot;success&quot;</td><td>&quot;0x5684a85af5f9d5c79ec5059bed00…</td><td>&quot;25237858042&quot;</td><td>&quot;43967734561968&quot;</td><td>&quot;24755723970&quot;</td><td>{&quot;zksyncdomain.eth&quot;,&quot;0x889bEFc77295680009eA41ecf3Aa676bd7a8ad9b&quot;,null,null,[],false,false,{null},null,[],[],[]}</td><td>null</td><td>[&quot;coin_transfer&quot;, &quot;contract_call&quot;]</td><td>&quot;91194&quot;</td><td>null</td><td>156</td><td>3</td><td>false</td><td>[]</td><td>{&quot;depositEth()&quot;,&quot;439370b1&quot;,[]}</td><td>null</td><td>&quot;0x439370b1&quot;</td><td>&quot;6149705100499409&quot;</td><td>&quot;1500000000&quot;</td><td>null</td><td>[0.0, 12000.0]</td><td>null</td></tr><tr><td>&quot;2022-10-25T20:13:47.000000Z&quot;</td><td>{&quot;actual&quot;,&quot;633464657385000&quot;}</td><td>&quot;21000&quot;</td><td>15827400</td><td>&quot;ok&quot;</td><td>null</td><td>4466067</td><td>2</td><td>&quot;3121.26&quot;</td><td>{null,&quot;0x80C67432656d59144cEFf962E8fAF8926599bCF8&quot;,null,null,[],false,false,{[{{null,null,null,null,null,null},&quot;Bridge&quot;,0,&quot;bridge&quot;,&quot;note&quot;}, {{null,null,null,null,null,null},&quot;Orbiter Finance: Bridge&quot;,10,&quot;orbiter-finance-bridge&quot;,&quot;name&quot;}]},null,[],[],[]}</td><td>&quot;601964657385000&quot;</td><td>&quot;41849383182&quot;</td><td>&quot;success&quot;</td><td>&quot;0xa461ad8388bd71ef69e8bbf6c387…</td><td>&quot;30164983685&quot;</td><td>&quot;31500000000000&quot;</td><td>&quot;28664983685&quot;</td><td>{&quot;zksyncdomain.eth&quot;,&quot;0x889bEFc77295680009eA41ecf3Aa676bd7a8ad9b&quot;,null,null,[],false,false,{null},null,[],[],[]}</td><td>null</td><td>[&quot;coin_transfer&quot;]</td><td>&quot;21000&quot;</td><td>null</td><td>99</td><td>2</td><td>false</td><td>[]</td><td>{null,null,null}</td><td>null</td><td>&quot;0x&quot;</td><td>&quot;6300000000009003&quot;</td><td>&quot;1500000000&quot;</td><td>null</td><td>[0.0, 12000.0]</td><td>null</td></tr><tr><td>&quot;2022-10-25T11:24:23.000000Z&quot;</td><td>{&quot;actual&quot;,&quot;226418107902000&quot;}</td><td>&quot;207128&quot;</td><td>15824781</td><td>&quot;ok&quot;</td><td>null</td><td>4468686</td><td>2</td><td>&quot;3121.26&quot;</td><td>{&quot;zksyncdomain.eth&quot;,&quot;0x889bEFc77295680009eA41ecf3Aa676bd7a8ad9b&quot;,null,null,[],false,false,{null},null,[],[],[]}</td><td>&quot;184418107902000&quot;</td><td>&quot;102000000000&quot;</td><td>&quot;success&quot;</td><td>&quot;0x8beb366c88ddf7c229fd1dd64c8b…</td><td>&quot;10781814662&quot;</td><td>&quot;42000000000000&quot;</td><td>&quot;8781814662&quot;</td><td>{null,&quot;0x28C6c06298d514Db089934071355E5743bf21d60&quot;,null,null,[],false,false,{[{{null},&quot;Binance 14&quot;,10,&quot;binance-14&quot;,&quot;name&quot;}]},null,[],[],[]}</td><td>null</td><td>[&quot;coin_transfer&quot;]</td><td>&quot;21000&quot;</td><td>null</td><td>44</td><td>4879410</td><td>false</td><td>[]</td><td>{null,null,null}</td><td>null</td><td>&quot;0x&quot;</td><td>&quot;19807920000000000&quot;</td><td>&quot;2000000000&quot;</td><td>null</td><td>[0.0, 12000.0]</td><td>null</td></tr><tr><td>&quot;2022-10-25T08:23:59.000000Z&quot;</td><td>{&quot;actual&quot;,&quot;265579806964206&quot;}</td><td>&quot;31825&quot;</td><td>15823881</td><td>&quot;ok&quot;</td><td>&quot;SecurityUpdate&quot;</td><td>4469586</td><td>2</td><td>&quot;3121.26&quot;</td><td>{null,&quot;0xd13b093EAfA3878De27183388Fea7D0D2B0AbF9E&quot;,null,null,[],true,true,{null},&quot;SecurityUpdates&quot;,[],[],[]}</td><td>&quot;233754306964206&quot;</td><td>&quot;15400379304&quot;</td><td>&quot;success&quot;</td><td>&quot;0x915f48b83bd458793b1876159c89…</td><td>&quot;12517311918&quot;</td><td>&quot;31825500000000&quot;</td><td>&quot;11017311918&quot;</td><td>{&quot;zksyncdomain.eth&quot;,&quot;0x889bEFc77295680009eA41ecf3Aa676bd7a8ad9b&quot;,null,null,[],false,false,{null},null,[],[],[]}</td><td>null</td><td>[&quot;coin_transfer&quot;, &quot;contract_call&quot;]</td><td>&quot;21217&quot;</td><td>null</td><td>70</td><td>1</td><td>false</td><td>[]</td><td>{&quot;SecurityUpdate()&quot;,&quot;5fba79f5&quot;,[]}</td><td>null</td><td>&quot;0x5fba79f5&quot;</td><td>&quot;5847065542998095&quot;</td><td>&quot;1500000000&quot;</td><td>null</td><td>[0.0, 12000.0]</td><td>null</td></tr><tr><td>&quot;2022-10-24T07:52:47.000000Z&quot;</td><td>{&quot;actual&quot;,&quot;329374356297000&quot;}</td><td>&quot;21000&quot;</td><td>15816593</td><td>&quot;ok&quot;</td><td>null</td><td>4476874</td><td>2</td><td>&quot;3121.26&quot;</td><td>{null,&quot;0xa96ed2EEA40FB4842607FA900E0BE05fe186BABe&quot;,null,null,[],false,false,{null},null,[],[],[]}</td><td>&quot;297874356297000&quot;</td><td>&quot;20740674166&quot;</td><td>&quot;success&quot;</td><td>&quot;0x2273dd29cc99d231a7ac1749df04…</td><td>&quot;15684493157&quot;</td><td>&quot;31500000000000&quot;</td><td>&quot;14184493157&quot;</td><td>{&quot;zksyncdomain.eth&quot;,&quot;0x889bEFc77295680009eA41ecf3Aa676bd7a8ad9b&quot;,null,null,[],false,false,{null},null,[],[],[]}</td><td>null</td><td>[&quot;coin_transfer&quot;]</td><td>&quot;21000&quot;</td><td>null</td><td>41</td><td>0</td><td>false</td><td>[]</td><td>{null,null,null}</td><td>null</td><td>&quot;0x&quot;</td><td>&quot;1000000000000000&quot;</td><td>&quot;1500000000&quot;</td><td>null</td><td>[0.0, 12000.0]</td><td>null</td></tr></tbody></table></div>"
      ],
      "text/plain": [
       "shape: (109, 34)\n",
       "┌────────────┬────────────┬───────────┬──────────┬───┬────────────┬───────────┬───────────┬────────┐\n",
       "│ timestamp  ┆ fee        ┆ gas_limit ┆ block    ┆ … ┆ max_priori ┆ revert_re ┆ confirmat ┆ tx_tag │\n",
       "│ ---        ┆ ---        ┆ ---       ┆ ---      ┆   ┆ ty_fee_per ┆ ason      ┆ ion_durat ┆ ---    │\n",
       "│ str        ┆ struct[2]  ┆ str       ┆ i64      ┆   ┆ _gas       ┆ ---       ┆ ion       ┆ null   │\n",
       "│            ┆            ┆           ┆          ┆   ┆ ---        ┆ null      ┆ ---       ┆        │\n",
       "│            ┆            ┆           ┆          ┆   ┆ str        ┆           ┆ list[f64] ┆        │\n",
       "╞════════════╪════════════╪═══════════╪══════════╪═══╪════════════╪═══════════╪═══════════╪════════╡\n",
       "│ 2024-05-06 ┆ {\"actual\", ┆ 21000     ┆ 19813308 ┆ … ┆ 27163710   ┆ null      ┆ [0.0,     ┆ null   │\n",
       "│ T20:04:47. ┆ \"156525604 ┆           ┆          ┆   ┆            ┆           ┆ 12000.0]  ┆        │\n",
       "│ 000000Z    ┆ 515000\"}   ┆           ┆          ┆   ┆            ┆           ┆           ┆        │\n",
       "│ 2024-04-27 ┆ {\"actual\", ┆ 193991    ┆ 19744891 ┆ … ┆ 55588870   ┆ null      ┆ [0.0,     ┆ null   │\n",
       "│ T06:29:11. ┆ \"102098337 ┆           ┆          ┆   ┆            ┆           ┆ 12000.0]  ┆        │\n",
       "│ 000000Z    ┆ 7222353\"}  ┆           ┆          ┆   ┆            ┆           ┆           ┆        │\n",
       "│ 2024-04-27 ┆ {\"actual\", ┆ 55292     ┆ 19744879 ┆ … ┆ 970000     ┆ null      ┆ [0.0,     ┆ null   │\n",
       "│ T06:26:47. ┆ \"290094006 ┆           ┆          ┆   ┆            ┆           ┆ 12000.0]  ┆        │\n",
       "│ 000000Z    ┆ 344094\"}   ┆           ┆          ┆   ┆            ┆           ┆           ┆        │\n",
       "│ 2024-04-17 ┆ {\"actual\", ┆ 77410     ┆ 19678006 ┆ … ┆ 38011554   ┆ null      ┆ [0.0,     ┆ null   │\n",
       "│ T21:54:59. ┆ \"505082319 ┆           ┆          ┆   ┆            ┆           ┆ 12000.0]  ┆        │\n",
       "│ 000000Z    ┆ 598116\"}   ┆           ┆          ┆   ┆            ┆           ┆           ┆        │\n",
       "│ 2024-04-17 ┆ {\"actual\", ┆ 113491    ┆ 19678000 ┆ … ┆ 39187169   ┆ null      ┆ [0.0,     ┆ null   │\n",
       "│ T21:53:47. ┆ \"755631295 ┆           ┆          ┆   ┆            ┆           ┆ 12000.0]  ┆        │\n",
       "│ 000000Z    ┆ 800570\"}   ┆           ┆          ┆   ┆            ┆           ┆           ┆        │\n",
       "│ …          ┆ …          ┆ …         ┆ …        ┆ … ┆ …          ┆ …         ┆ …         ┆ …      │\n",
       "│ 2022-10-25 ┆ {\"actual\", ┆ 92151     ┆ 15828152 ┆ … ┆ 1500000000 ┆ null      ┆ [0.0,     ┆ null   │\n",
       "│ T22:45:35. ┆ \"230154122 ┆           ┆          ┆   ┆            ┆           ┆ 12000.0]  ┆        │\n",
       "│ 000000Z    ┆ 6282148\"}  ┆           ┆          ┆   ┆            ┆           ┆           ┆        │\n",
       "│ 2022-10-25 ┆ {\"actual\", ┆ 21000     ┆ 15827400 ┆ … ┆ 1500000000 ┆ null      ┆ [0.0,     ┆ null   │\n",
       "│ T20:13:47. ┆ \"633464657 ┆           ┆          ┆   ┆            ┆           ┆ 12000.0]  ┆        │\n",
       "│ 000000Z    ┆ 385000\"}   ┆           ┆          ┆   ┆            ┆           ┆           ┆        │\n",
       "│ 2022-10-25 ┆ {\"actual\", ┆ 207128    ┆ 15824781 ┆ … ┆ 2000000000 ┆ null      ┆ [0.0,     ┆ null   │\n",
       "│ T11:24:23. ┆ \"226418107 ┆           ┆          ┆   ┆            ┆           ┆ 12000.0]  ┆        │\n",
       "│ 000000Z    ┆ 902000\"}   ┆           ┆          ┆   ┆            ┆           ┆           ┆        │\n",
       "│ 2022-10-25 ┆ {\"actual\", ┆ 31825     ┆ 15823881 ┆ … ┆ 1500000000 ┆ null      ┆ [0.0,     ┆ null   │\n",
       "│ T08:23:59. ┆ \"265579806 ┆           ┆          ┆   ┆            ┆           ┆ 12000.0]  ┆        │\n",
       "│ 000000Z    ┆ 964206\"}   ┆           ┆          ┆   ┆            ┆           ┆           ┆        │\n",
       "│ 2022-10-24 ┆ {\"actual\", ┆ 21000     ┆ 15816593 ┆ … ┆ 1500000000 ┆ null      ┆ [0.0,     ┆ null   │\n",
       "│ T07:52:47. ┆ \"329374356 ┆           ┆          ┆   ┆            ┆           ┆ 12000.0]  ┆        │\n",
       "│ 000000Z    ┆ 297000\"}   ┆           ┆          ┆   ┆            ┆           ┆           ┆        │\n",
       "└────────────┴────────────┴───────────┴──────────┴───┴────────────┴───────────┴───────────┴────────┘"
      ]
     },
     "execution_count": 93,
     "metadata": {},
     "output_type": "execute_result"
    }
   ],
   "source": [
    "# txs[0]\n",
    "# # schema = {\"timestamp\": pl.String, \"fee\": pl.Struct, \"gas_limit\": pl.String, \"block\": pl.Int64, \"status\": pl.String, \"method\": pl.String, \"confirmations\": pl.Int64, \"type\": pl.Int16, \"exchange_rate\": pl.String, \"to\": pl.Struct, \"tx_burnt_fee\": pl.String, \"max_fee_per_gas\": pl.String, \"result\": pl.String, \"hash\": pl.String, \"gas_price\": pl.String, \"priority_fee\": pl.String, \"base_fee_per_gas\": pl.String, \"from\": pl.Struct, \"token_transfers\": pl.Unknown, \"tx_types\": pl.List, \"gas_used\": pl.String, \"created_contract\": pl.Unknown, \"position\": pl.Int64, \"nonce\": pl.Int64, \"has_error_in_internal_txs\": pl.Boolean, \"actions\": pl.List, \"decoded_input\": pl.Unknown, \"token_transfers_overflow\": pl.Unknown, \"raw_input\": pl.String, \"value\": pl.String, \"max_priority_fee_per_gas\": pl.String, \"revert_reason\": pl.Unknown, \"confirmation_duration\": pl.List, \"tx_tag\": pl.Unknown}\n",
    "# pl.from_dicts(txs, strict=False)"
   ]
  }
 ],
 "metadata": {
  "kernelspec": {
   "display_name": "Python 3",
   "language": "python",
   "name": "python3"
  },
  "language_info": {
   "codemirror_mode": {
    "name": "ipython",
    "version": 3
   },
   "file_extension": ".py",
   "mimetype": "text/x-python",
   "name": "python",
   "nbconvert_exporter": "python",
   "pygments_lexer": "ipython3",
   "version": "3.8.10"
  }
 },
 "nbformat": 4,
 "nbformat_minor": 2
}
